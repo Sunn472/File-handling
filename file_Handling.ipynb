{
  "nbformat": 4,
  "nbformat_minor": 0,
  "metadata": {
    "colab": {
      "provenance": []
    },
    "kernelspec": {
      "name": "python3",
      "display_name": "Python 3"
    },
    "language_info": {
      "name": "python"
    }
  },
  "cells": [
    {
      "cell_type": "code",
      "execution_count": 19,
      "metadata": {
        "id": "pAernexYRAct"
      },
      "outputs": [],
      "source": [
        "'''\n",
        "Q1. How can you open a file for writing in Python and write a string to it?\n",
        "'''\n",
        "file=open('file.txt','w')\n",
        "file.write('Hello, I am Sunny Bharti')\n",
        "file.close()"
      ]
    },
    {
      "cell_type": "code",
      "source": [
        "'''\n",
        "Q2. Write a Python program to read the contents of a file and print each line\n",
        "'''\n",
        "file=open('file1.txt','w')\n",
        "file.write('This is my first line\\n')\n",
        "file.write('This is my second line\\n')\n",
        "file.write('This is my third line\\n')\n",
        "file.write('This is my fourth line\\n')\n",
        "file.write('This is my fifth line\\n')\n",
        "file.write('This is my sixth line\\n')\n",
        "file.write('This is my seventh line\\n')\n",
        "file.write('This is my eighth line\\n')\n",
        "file.write('This is my ninth line\\n')\n",
        "file.write('This is my tenth line\\n')\n",
        "file.close()\n",
        "\n",
        "file=open('file1.txt','r')\n",
        "print(file.read())\n",
        "file.close()"
      ],
      "metadata": {
        "colab": {
          "base_uri": "https://localhost:8080/"
        },
        "id": "ZtYKkp4qStsv",
        "outputId": "02d324ad-27b2-41da-aed1-6ae6feab2cac"
      },
      "execution_count": 21,
      "outputs": [
        {
          "output_type": "stream",
          "name": "stdout",
          "text": [
            "This is my first line\n",
            "This is my second line\n",
            "This is my third line\n",
            "This is my fourth line\n",
            "This is my fifth line\n",
            "This is my sixth line\n",
            "This is my seventh line\n",
            "This is my eighth line\n",
            "This is my ninth line\n",
            "This is my tenth line\n",
            "\n"
          ]
        }
      ]
    },
    {
      "cell_type": "code",
      "source": [
        "'''\n",
        "Q3. How would you handle a case where the file doesn't exist while trying to\n",
        "open it for reading\n",
        "'''\n",
        "try:\n",
        "    f=open('example.txt','r')\n",
        "\n",
        "except FileNotFoundError as e:\n",
        "    print('File is found',e)"
      ],
      "metadata": {
        "colab": {
          "base_uri": "https://localhost:8080/"
        },
        "id": "J4wxG9grTFn0",
        "outputId": "3e2a5d13-ca9b-4358-8d22-0e6cd5c4f797"
      },
      "execution_count": 22,
      "outputs": [
        {
          "output_type": "stream",
          "name": "stdout",
          "text": [
            "File is found [Errno 2] No such file or directory: 'example.txt'\n"
          ]
        }
      ]
    },
    {
      "cell_type": "code",
      "source": [
        "'''\n",
        "Q4. Write a Python script that reads from one file and writes its content to\n",
        "another file\n",
        "'''\n",
        "#read file= file1.txt\n",
        "#write file= file.txt\n",
        "\n",
        "file=open('file1.txt','r')\n",
        "content = file.read()\n",
        "file.close()\n",
        "\n",
        "with open('file.txt', 'a') as f:\n",
        "    f.write(content)\n",
        "    print('Content copied from file1.txt to file.txt')"
      ],
      "metadata": {
        "id": "99_4xLUHVjrK",
        "colab": {
          "base_uri": "https://localhost:8080/"
        },
        "outputId": "2870ad17-e86a-4195-8ed0-fd2b1b581235"
      },
      "execution_count": 23,
      "outputs": [
        {
          "output_type": "stream",
          "name": "stdout",
          "text": [
            "Content copied from file1.txt to file.txt\n"
          ]
        }
      ]
    },
    {
      "cell_type": "code",
      "source": [
        "'''\n",
        "Q5. How would you catch and handle division by zero error in Python\n",
        "'''\n",
        "try:\n",
        "    5/0\n",
        "\n",
        "except ZeroDivisionError as e:\n",
        "    print('I am handling the Zero Division Error: ',e)"
      ],
      "metadata": {
        "colab": {
          "base_uri": "https://localhost:8080/"
        },
        "id": "uBPt9cALZxW-",
        "outputId": "3082c07a-f448-43a7-85c8-f57ea6d86ceb"
      },
      "execution_count": 24,
      "outputs": [
        {
          "output_type": "stream",
          "name": "stdout",
          "text": [
            "I am handling the Zero Division Error:  division by zero\n"
          ]
        }
      ]
    },
    {
      "cell_type": "code",
      "source": [
        "'''\n",
        "Q6. Write a Python program that logs an error message to a log file when\n",
        " a division by zero exception occurs\n",
        "'''\n",
        "import logging\n",
        "\n",
        "# Set up logging to write errors to a log file\n",
        "logging.basicConfig(filename=\"error1.log\", level=logging.ERROR, format=\"%(asctime)s - %(levelname)s - %(message)s\",force=True)\n",
        "\n",
        "try:\n",
        "    # Attempt to divide by zero\n",
        "    result = 10 / 0\n",
        "\n",
        "except ZeroDivisionError:\n",
        "    logging.error(\"Error: Division by zero occurred!\")\n",
        "\n",
        "print(\"Error (if any) has been logged to 'error.log'.\")\n"
      ],
      "metadata": {
        "colab": {
          "base_uri": "https://localhost:8080/"
        },
        "id": "j95Z3cnwf6Ti",
        "outputId": "2f6f9ced-a4cf-4b9c-bc9b-78ca5d315d32"
      },
      "execution_count": 65,
      "outputs": [
        {
          "output_type": "stream",
          "name": "stdout",
          "text": [
            "Error (if any) has been logged to 'error.log'.\n"
          ]
        }
      ]
    },
    {
      "cell_type": "code",
      "source": [
        "'''\n",
        "Q7. How do you log information at different levels (INFO, ERROR, WARNING) in\n",
        "Python using the logging module\n",
        "'''\n",
        "import logging\n",
        "\n",
        "logging.basicConfig(filename='test.log',level = logging.INFO, force=True)\n",
        "logging.info('This is my info log')\n",
        "logging.warning('This is my warning log')\n",
        "logging.error('This is my error log')"
      ],
      "metadata": {
        "id": "fkyqQxXCg0uk"
      },
      "execution_count": 31,
      "outputs": []
    },
    {
      "cell_type": "code",
      "source": [
        "'''\n",
        "Q8. Write a program to handle a file opening error using exception handling\n",
        "'''\n",
        "try:\n",
        "    # Trying to open a file that may not exist\n",
        "    file = open(\"not_exist_file.txt\", \"r\")\n",
        "    content = file.read()\n",
        "    print(content)\n",
        "    file.close()\n",
        "except FileNotFoundError as e:\n",
        "    print(\"The file does not exist:\", e)\n"
      ],
      "metadata": {
        "colab": {
          "base_uri": "https://localhost:8080/"
        },
        "id": "xXi9kq_nh7oh",
        "outputId": "f821d665-525a-4b92-ea40-1a77d311f2ca"
      },
      "execution_count": 32,
      "outputs": [
        {
          "output_type": "stream",
          "name": "stdout",
          "text": [
            "The file does not exist: [Errno 2] No such file or directory: 'not_exist_file.txt'\n"
          ]
        }
      ]
    },
    {
      "cell_type": "code",
      "source": [
        "'''\n",
        "Q9. How can you read a file line by line and store its content in a\n",
        "list in Python\n",
        "'''\n",
        "with open(\"file1.txt\", \"r\") as file:\n",
        "    lines = [line.strip() for line in file] #Reads file line by line\n",
        "\n",
        "print(lines)  # List of lines\n"
      ],
      "metadata": {
        "colab": {
          "base_uri": "https://localhost:8080/"
        },
        "id": "xGIz_BmOlt-1",
        "outputId": "04f7d50d-d71d-4fc2-df9d-97ab594117b9"
      },
      "execution_count": 35,
      "outputs": [
        {
          "output_type": "stream",
          "name": "stdout",
          "text": [
            "['This is my first line', 'This is my second line', 'This is my third line', 'This is my fourth line', 'This is my fifth line', 'This is my sixth line', 'This is my seventh line', 'This is my eighth line', 'This is my ninth line', 'This is my tenth line']\n"
          ]
        }
      ]
    },
    {
      "cell_type": "code",
      "source": [
        "'''\n",
        "Q10. How can you append data to an existing file in Python\n",
        "'''\n",
        "with open(\"file.txt\", \"a\") as file:\n",
        "    file.write(\"This is new content added to the file.\")\n"
      ],
      "metadata": {
        "id": "PXMCfWYkmsc3"
      },
      "execution_count": 38,
      "outputs": []
    },
    {
      "cell_type": "code",
      "source": [
        "'''\n",
        "Q11. Write a Python program that uses a try-except block to handle an error\n",
        "when attempting to access a dictionary key that doesn't exist\n",
        "'''\n",
        "\n",
        "try:\n",
        "    d={'Name':'Sunny','Age':22}\n",
        "    d['Course']\n",
        "\n",
        "except KeyError as e:\n",
        "    print('Key is not found: ',e)"
      ],
      "metadata": {
        "colab": {
          "base_uri": "https://localhost:8080/"
        },
        "id": "3GrBSQnTnpOq",
        "outputId": "6d1d89b9-cdc1-4fea-b627-58f076f88aed"
      },
      "execution_count": 40,
      "outputs": [
        {
          "output_type": "stream",
          "name": "stdout",
          "text": [
            "Key is not found:  'Course'\n"
          ]
        }
      ]
    },
    {
      "cell_type": "code",
      "source": [
        "'''\n",
        "Q12. Write a program that demonstrates using multiple except blocks to handle\n",
        "different types of exceptions\n",
        "'''\n",
        "try:\n",
        "    a=int(input('a='))\n",
        "    b=int(input('b='))\n",
        "    print(a/b)\n",
        "    l= [ 12,34,45]\n",
        "    l[5]\n",
        "\n",
        "except ZeroDivisionError as e:\n",
        "    print('Denominator can never zero',e)\n",
        "except ValueError as e:\n",
        "    print('Enter a valid number',e)\n",
        "except IndexError as e:\n",
        "    print('Only 3 element is present',e)\n"
      ],
      "metadata": {
        "colab": {
          "base_uri": "https://localhost:8080/"
        },
        "id": "6SQJ5oovrY1Y",
        "outputId": "c0102173-815a-4c88-e029-d717ba65d544"
      },
      "execution_count": 41,
      "outputs": [
        {
          "output_type": "stream",
          "name": "stdout",
          "text": [
            "a=90\n",
            "b=0\n",
            "Denominator can never zero division by zero\n"
          ]
        }
      ]
    },
    {
      "cell_type": "code",
      "source": [
        "'''\n",
        "Q13. How would you check if a file exists before attempting to read it in Python\n",
        "'''\n",
        "import os\n",
        "\n",
        "filename = \"example.txt\"\n",
        "\n",
        "if os.path.exists(filename):\n",
        "    with open(filename, \"r\") as file:\n",
        "        content = file.read()\n",
        "        print(content)\n",
        "else:\n",
        "    print(\"File does not exist!\")\n"
      ],
      "metadata": {
        "colab": {
          "base_uri": "https://localhost:8080/"
        },
        "id": "9RniIj9LyCeT",
        "outputId": "5099792a-f9f0-465e-ecf8-1f83ecc4b3d0"
      },
      "execution_count": 42,
      "outputs": [
        {
          "output_type": "stream",
          "name": "stdout",
          "text": [
            "File does not exist!\n"
          ]
        }
      ]
    },
    {
      "cell_type": "code",
      "source": [
        "'''\n",
        "Q14. Write a program that uses the logging module to log both informational\n",
        "and error messages.\n",
        "'''\n",
        "import logging\n",
        "\n",
        "import logging\n",
        "\n",
        "logging.basicConfig(filename=\"app.log\", level=logging.INFO, format=\"%(asctime)s - %(levelname)s - %(message)s\",force=True)\n",
        "\n",
        "logging.info(\"Program started successfully.\")\n",
        "\n",
        "try:\n",
        "    result = 10 / 0\n",
        "except ZeroDivisionError:\n",
        "    logging.error(\"Error: Division by zero occurred!\")\n",
        "\n",
        "logging.info(\"Program execution completed.\")\n"
      ],
      "metadata": {
        "id": "XKbiCPAeyjY6"
      },
      "execution_count": 45,
      "outputs": []
    },
    {
      "cell_type": "code",
      "source": [
        "'''\n",
        "Q15. Write a Python program that prints the content of a file and handles the\n",
        "case when the file is empty\n",
        "'''\n",
        "import os\n",
        "\n",
        "filename='file1.txt'\n",
        "\n",
        "if os.path.exists(filename): #to check file existance\n",
        "    with open(filename,'r') as f:\n",
        "        content=f.read().strip()\n",
        "        if len(content)>0: # to check availability  of content\n",
        "            print(content)\n",
        "        else:\n",
        "            print('File has no content')\n",
        "\n",
        "else:\n",
        "    print('File does not exist')"
      ],
      "metadata": {
        "colab": {
          "base_uri": "https://localhost:8080/"
        },
        "id": "Lo2vzcT5zYWd",
        "outputId": "0ed24037-332d-464c-df47-28d907262c01"
      },
      "execution_count": 47,
      "outputs": [
        {
          "output_type": "stream",
          "name": "stdout",
          "text": [
            "This is my first line\n",
            "This is my second line\n",
            "This is my third line\n",
            "This is my fourth line\n",
            "This is my fifth line\n",
            "This is my sixth line\n",
            "This is my seventh line\n",
            "This is my eighth line\n",
            "This is my ninth line\n",
            "This is my tenth line\n"
          ]
        }
      ]
    },
    {
      "cell_type": "code",
      "source": [
        "'''\n",
        "Q16. Demonstrate how to use memory profiling to check the memory usage of a\n",
        "small program\n",
        "'''\n",
        "import sys\n",
        "\n",
        "a=5\n",
        "b=8\n",
        "c=a+b\n",
        "\n",
        "print(f'a: {sys.getsizeof(a)}bytes')\n",
        "print(f'b: {sys.getsizeof(b)}bytes')\n",
        "print(f'c: {sys.getsizeof(c)}bytes')\n",
        "total_size = sys.getsizeof(a) + sys.getsizeof(b) + sys.getsizeof(c)\n",
        "print(f'Total size: {total_size} bytes')"
      ],
      "metadata": {
        "colab": {
          "base_uri": "https://localhost:8080/"
        },
        "id": "uhzWyL1U2rny",
        "outputId": "b6e18f8b-f7b0-4d0f-eaec-05f53cfc5368"
      },
      "execution_count": 52,
      "outputs": [
        {
          "output_type": "stream",
          "name": "stdout",
          "text": [
            "a: 28bytes\n",
            "b: 28bytes\n",
            "c: 28bytes\n",
            "Total size: 84 bytes\n"
          ]
        }
      ]
    },
    {
      "cell_type": "code",
      "source": [
        "'''\n",
        "Q17. Write a Python program to create and write a list of numbers to a file,\n",
        "one number per line\n",
        "'''\n",
        "l=[10,20,30,40,50]\n",
        "\n",
        "with open ('number.txt','w') as file:\n",
        "    for num in l:\n",
        "        file.write(f\"{num}\\n\")\n",
        "        l.append\n",
        "\n",
        "print('File created succesfully and number added in it one per line')"
      ],
      "metadata": {
        "colab": {
          "base_uri": "https://localhost:8080/"
        },
        "id": "lxeR-5cP4NXk",
        "outputId": "74cb043d-48ae-49c0-d1b8-e4ba679f488c"
      },
      "execution_count": 53,
      "outputs": [
        {
          "output_type": "stream",
          "name": "stdout",
          "text": [
            "File created succesfully and number added in it one per line\n"
          ]
        }
      ]
    },
    {
      "cell_type": "code",
      "source": [
        "'''\n",
        "Q18. How would you implement a basic logging setup that logs to a file with\n",
        "rotation after 1MB\n",
        "'''\n",
        "import logging\n",
        "from logging.handlers import RotatingFileHandler\n",
        "\n",
        "log_file = \"app1.log\"\n",
        "handler = RotatingFileHandler(log_file, maxBytes=1_048_576, backupCount=3)\n",
        "\n",
        "logging.basicConfig(\n",
        "    level=logging.INFO,\n",
        "    format=\"%(asctime)s - %(levelname)s - %(message)s\",\n",
        "    handlers=[handler])\n",
        "\n",
        "for i in range(10000):\n",
        "    logging.info(f\"Log message {i}\")\n",
        "\n",
        "print(\"Logging setup with rotation is active. Check 'app.log' files.\")\n"
      ],
      "metadata": {
        "colab": {
          "base_uri": "https://localhost:8080/"
        },
        "id": "DBSgfGAH9tYK",
        "outputId": "68420e57-6a7b-4690-fe4f-ced6bf07b5be"
      },
      "execution_count": 66,
      "outputs": [
        {
          "output_type": "stream",
          "name": "stdout",
          "text": [
            "Logging setup with rotation is active. Check 'app.log' files.\n"
          ]
        }
      ]
    },
    {
      "cell_type": "code",
      "source": [
        "'''\n",
        "Q19.Write a program that handles both IndexError and KeyError using a\n",
        "try-except block\n",
        "'''\n",
        "try:\n",
        "    l=[12,3,45,67,90]\n",
        "    print(l[5])\n",
        "    d={'Name':'Sunny','age':21}\n",
        "    print(d['course'])\n",
        "\n",
        "except IndexError as e:\n",
        "    print('Only 5 elements i.e is til 4th idex is availabe',e)\n",
        "\n",
        "except KeyError as s:\n",
        "    print('Course key is not available',s)"
      ],
      "metadata": {
        "colab": {
          "base_uri": "https://localhost:8080/"
        },
        "id": "OY1en6Sn_Zj9",
        "outputId": "4e209c4a-965f-4da8-ad80-c57b63cbb214"
      },
      "execution_count": 56,
      "outputs": [
        {
          "output_type": "stream",
          "name": "stdout",
          "text": [
            "Course key is not available 'course'\n"
          ]
        }
      ]
    },
    {
      "cell_type": "code",
      "source": [
        "'''\n",
        "Q20. How would you open a file and read its contents using a context manager\n",
        "in Python\n",
        "'''\n",
        "with open('number.txt','r') as f:\n",
        "    content= f.read()\n",
        "\n",
        "print(content)"
      ],
      "metadata": {
        "colab": {
          "base_uri": "https://localhost:8080/"
        },
        "id": "fn4JSdXEAtOU",
        "outputId": "343984ca-a548-4d0f-bdcf-1ee2e63f529f"
      },
      "execution_count": 57,
      "outputs": [
        {
          "output_type": "stream",
          "name": "stdout",
          "text": [
            "10\n",
            "20\n",
            "30\n",
            "40\n",
            "50\n",
            "\n"
          ]
        }
      ]
    },
    {
      "cell_type": "code",
      "source": [
        "'''\n",
        "Q21. Write a Python program that reads a file and prints the number of\n",
        "occurrences of a specific word\n",
        "'''\n",
        "file_name='file1.txt'\n",
        "word_to_count='This'\n",
        "\n",
        "with open(file_name,'r') as file:\n",
        "    for line in file:\n",
        "        words=line.split()\n",
        "        count += words.count(word_to_count)\n",
        "\n",
        "print(f'The word \"{word_to_count}\" appears {count} times in the file.')"
      ],
      "metadata": {
        "colab": {
          "base_uri": "https://localhost:8080/"
        },
        "id": "142MyMibBZiA",
        "outputId": "cb1a0097-39f5-45c4-ac1f-27962e2f5c3b"
      },
      "execution_count": 61,
      "outputs": [
        {
          "output_type": "stream",
          "name": "stdout",
          "text": [
            "The word \"This\" appears 12 times in the file.\n"
          ]
        }
      ]
    },
    {
      "cell_type": "code",
      "source": [
        "'''\n",
        "Q22. How can you check if a file is empty before attempting to read its contents\n",
        "'''\n",
        "import os\n",
        "\n",
        "filename = \"number.txt\"\n",
        "\n",
        "if os.path.exists(filename) and os.path.getsize(filename) > 0:\n",
        "    with open(filename, \"r\") as file:\n",
        "        content = file.read()\n",
        "        print(\"File Content:\\n\", content)\n",
        "else:\n",
        "    print(\"The file is empty or does not exist!\")\n"
      ],
      "metadata": {
        "colab": {
          "base_uri": "https://localhost:8080/"
        },
        "id": "r1gjH9YPCilX",
        "outputId": "de0b2ae2-205d-4d5f-b66f-1a4ce7985ef1"
      },
      "execution_count": 62,
      "outputs": [
        {
          "output_type": "stream",
          "name": "stdout",
          "text": [
            "File Content:\n",
            " 10\n",
            "20\n",
            "30\n",
            "40\n",
            "50\n",
            "\n"
          ]
        }
      ]
    },
    {
      "cell_type": "code",
      "source": [
        "'''\n",
        "Q23. Write a Python program that writes to a log file when an error occurs\n",
        "during file handling.\n",
        "'''\n",
        "import logging\n",
        "\n",
        "# Set up logging to write errors to a log file\n",
        "logging.basicConfig(filename=\"error.log\", level=logging.ERROR, format=\"%(asctime)s - %(levelname)s - %(message)s\",force=True)\n",
        "\n",
        "try:\n",
        "    # Try to open a non-existent file for reading\n",
        "    with open(\"non_existent_file.txt\", \"r\") as file:\n",
        "        content = file.read()\n",
        "        print(content)\n",
        "\n",
        "except FileNotFoundError:\n",
        "    logging.error(\"Error: The file does not exist!\")\n",
        "\n",
        "except Exception as e:\n",
        "    logging.error(f\"An unexpected error occurred: {e}\")\n",
        "\n",
        "print(\"Error (if any) has been logged to 'error.log'.\")\n"
      ],
      "metadata": {
        "colab": {
          "base_uri": "https://localhost:8080/"
        },
        "id": "QDB8yY2JD91P",
        "outputId": "7af777c2-8250-4c58-fa23-af9cc4f4fb4b"
      },
      "execution_count": 64,
      "outputs": [
        {
          "output_type": "stream",
          "name": "stdout",
          "text": [
            "Error (if any) has been logged to 'error.log'.\n"
          ]
        }
      ]
    },
    {
      "cell_type": "code",
      "source": [],
      "metadata": {
        "id": "Kt2iIj-KEfKh"
      },
      "execution_count": null,
      "outputs": []
    }
  ]
}